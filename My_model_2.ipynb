{
 "cells": [
  {
   "cell_type": "code",
   "execution_count": null,
   "id": "a5e1d3f2",
   "metadata": {},
   "outputs": [],
   "source": [
    "import torch\n",
    "import torch.nn as nn\n",
    "from torchvision.transforms import transforms\n",
    "import numpy as np\n",
    "from torch.autograd import Variable\n",
    "from torchvision.models import squeezenet1_1\n",
    "import torch.functional as F\n",
    "from io import open\n",
    "import os\n",
    "from PIL import Image\n",
    "import pathlib\n",
    "import glob\n",
    "import cv2"
   ]
  },
  {
   "cell_type": "code",
   "execution_count": 22,
   "id": "98c09a5d",
   "metadata": {},
   "outputs": [],
   "source": [
    "train_path=r'D:\\Data Analysis\\Image Classification Assignment\\data\\train'\n",
    "pred_path=r'D:\\Data Analysis\\Image Classification Assignment\\data\\pred'"
   ]
  },
  {
   "cell_type": "code",
   "execution_count": 23,
   "id": "e0de3f53",
   "metadata": {},
   "outputs": [],
   "source": [
    "#categories\n",
    "root=pathlib.Path(train_path)\n",
    "classes=sorted([j.name.split('/')[-1] for j in root.iterdir()])"
   ]
  },
  {
   "cell_type": "code",
   "execution_count": 24,
   "id": "1926309b",
   "metadata": {},
   "outputs": [],
   "source": [
    "#CNN Network\n",
    "\n",
    "\n",
    "class ConvNet(nn.Module):\n",
    "    def __init__(self,num_classes=6):\n",
    "        super(ConvNet,self).__init__()\n",
    "        \n",
    "        #Output size after convolution filter\n",
    "        #((w-f+2P)/s) +1\n",
    "        \n",
    "        #Input shape= (256,3,150,150)\n",
    "        \n",
    "        self.conv1=nn.Conv2d(in_channels=3,out_channels=12,kernel_size=3,stride=1,padding=1)\n",
    "        #Shape= (256,12,150,150)\n",
    "        self.bn1=nn.BatchNorm2d(num_features=12)\n",
    "        #Shape= (256,12,150,150)\n",
    "        self.relu1=nn.ReLU()\n",
    "        #Shape= (256,12,150,150)\n",
    "        \n",
    "        self.pool=nn.MaxPool2d(kernel_size=2)\n",
    "        #Reduce the image size be factor 2\n",
    "        #Shape= (256,12,75,75)\n",
    "        \n",
    "        \n",
    "        self.conv2=nn.Conv2d(in_channels=12,out_channels=20,kernel_size=3,stride=1,padding=1)\n",
    "        #Shape= (256,20,75,75)\n",
    "        self.relu2=nn.ReLU()\n",
    "        #Shape= (256,20,75,75)\n",
    "        \n",
    "        self.conv3=nn.Conv2d(in_channels=20,out_channels=32,kernel_size=3,stride=1,padding=1)\n",
    "        #Shape= (256,32,75,75)\n",
    "        self.bn3=nn.BatchNorm2d(num_features=32)\n",
    "        #Shape= (256,32,75,75)\n",
    "        self.relu3=nn.ReLU()\n",
    "        #Shape= (256,32,75,75)\n",
    "        \n",
    "        \n",
    "        self.fc=nn.Linear(in_features=75 * 75 * 32,out_features=num_classes)\n",
    "        \n",
    "        \n",
    "        \n",
    "        #Feed forwad function\n",
    "        \n",
    "    def forward(self,input):\n",
    "        output=self.conv1(input)\n",
    "        output=self.bn1(output)\n",
    "        output=self.relu1(output)\n",
    "            \n",
    "        output=self.pool(output)\n",
    "            \n",
    "        output=self.conv2(output)\n",
    "        output=self.relu2(output)\n",
    "            \n",
    "        output=self.conv3(output)\n",
    "        output=self.bn3(output)\n",
    "        output=self.relu3(output)\n",
    "             \n",
    "            #Above output will be in matrix form, with shape (256,32,75,75)\n",
    "            \n",
    "        output=output.view(-1,32*75*75)\n",
    "            \n",
    "            \n",
    "        output=self.fc(output)\n",
    "            \n",
    "        return output\n",
    "        \n",
    "        "
   ]
  },
  {
   "cell_type": "code",
   "execution_count": 25,
   "id": "4a9dfa09",
   "metadata": {},
   "outputs": [
    {
     "data": {
      "text/plain": [
       "ConvNet(\n",
       "  (conv1): Conv2d(3, 12, kernel_size=(3, 3), stride=(1, 1), padding=(1, 1))\n",
       "  (bn1): BatchNorm2d(12, eps=1e-05, momentum=0.1, affine=True, track_running_stats=True)\n",
       "  (relu1): ReLU()\n",
       "  (pool): MaxPool2d(kernel_size=2, stride=2, padding=0, dilation=1, ceil_mode=False)\n",
       "  (conv2): Conv2d(12, 20, kernel_size=(3, 3), stride=(1, 1), padding=(1, 1))\n",
       "  (relu2): ReLU()\n",
       "  (conv3): Conv2d(20, 32, kernel_size=(3, 3), stride=(1, 1), padding=(1, 1))\n",
       "  (bn3): BatchNorm2d(32, eps=1e-05, momentum=0.1, affine=True, track_running_stats=True)\n",
       "  (relu3): ReLU()\n",
       "  (fc): Linear(in_features=180000, out_features=80, bias=True)\n",
       ")"
      ]
     },
     "execution_count": 25,
     "metadata": {},
     "output_type": "execute_result"
    }
   ],
   "source": [
    "checkpoint=torch.load('best_checkpoint.model')\n",
    "model=ConvNet(num_classes=80)\n",
    "model.load_state_dict(checkpoint)\n",
    "model.eval()"
   ]
  },
  {
   "cell_type": "code",
   "execution_count": 26,
   "id": "fc22ede3",
   "metadata": {},
   "outputs": [],
   "source": [
    "#Transforms\n",
    "transformer=transforms.Compose([\n",
    "    transforms.Resize((150,150)),\n",
    "    transforms.ToTensor(),  #0-255 to 0-1, numpy to tensors\n",
    "    transforms.Normalize([0.5,0.5,0.5], # 0-1 to [-1,1] , formula (x-mean)/std\n",
    "                        [0.5,0.5,0.5])\n",
    "])"
   ]
  },
  {
   "cell_type": "code",
   "execution_count": 27,
   "id": "8638cfbd",
   "metadata": {},
   "outputs": [],
   "source": [
    "#prediction function\n",
    "def prediction(img_path,transformer):\n",
    "    \n",
    "    image=Image.open(img_path)\n",
    "    \n",
    "    image_tensor=transformer(image).float()\n",
    "    \n",
    "    \n",
    "    image_tensor=image_tensor.unsqueeze_(0)\n",
    "    \n",
    "    if torch.cuda.is_available():\n",
    "        image_tensor.cuda()\n",
    "        \n",
    "    input=Variable(image_tensor)\n",
    "    \n",
    "    \n",
    "    output=model(input)\n",
    "    \n",
    "    index=output.data.numpy().argmax()\n",
    "    \n",
    "    pred=classes[index]\n",
    "    \n",
    "    return pred\n",
    "    "
   ]
  },
  {
   "cell_type": "code",
   "execution_count": 28,
   "id": "7701e218",
   "metadata": {},
   "outputs": [],
   "source": [
    "images_path=glob.glob(pred_path+'/*.jpg')"
   ]
  },
  {
   "cell_type": "code",
   "execution_count": 29,
   "id": "27b8d1e2",
   "metadata": {},
   "outputs": [],
   "source": [
    "pred_dict={}\n",
    "\n",
    "for i in images_path:\n",
    "    pred_dict[i[i.rfind('/')+1:]]=prediction(i,transformer)"
   ]
  },
  {
   "cell_type": "code",
   "execution_count": 30,
   "id": "9d01e6d9",
   "metadata": {},
   "outputs": [
    {
     "data": {
      "text/plain": [
       "{'D:\\\\Data Analysis\\\\Image Classification Assignment\\\\data\\\\pred\\\\00df9283ba6944b5.jpg': 'Squid',\n",
       " 'D:\\\\Data Analysis\\\\Image Classification Assignment\\\\data\\\\pred\\\\00e6ccb5516d6bdf.jpg': 'Bull',\n",
       " 'D:\\\\Data Analysis\\\\Image Classification Assignment\\\\data\\\\pred\\\\01b0bd04c15843de.jpg': 'Squid',\n",
       " 'D:\\\\Data Analysis\\\\Image Classification Assignment\\\\data\\\\pred\\\\01be52d3a4c819ea.jpg': 'Squid',\n",
       " 'D:\\\\Data Analysis\\\\Image Classification Assignment\\\\data\\\\pred\\\\01c6d6eb2293d419.jpg': 'Squid',\n",
       " 'D:\\\\Data Analysis\\\\Image Classification Assignment\\\\data\\\\pred\\\\01c8e3c9150b2c4b.jpg': 'Seahorse',\n",
       " 'D:\\\\Data Analysis\\\\Image Classification Assignment\\\\data\\\\pred\\\\01f38e233e8002be.jpg': 'Scorpion',\n",
       " 'D:\\\\Data Analysis\\\\Image Classification Assignment\\\\data\\\\pred\\\\02b12fe295225ba1.jpg': 'Squid',\n",
       " 'D:\\\\Data Analysis\\\\Image Classification Assignment\\\\data\\\\pred\\\\07f1fe9ce97c8fac.jpg': 'Bull',\n",
       " 'D:\\\\Data Analysis\\\\Image Classification Assignment\\\\data\\\\pred\\\\0a2b166c644e2bd3.jpg': 'Squid',\n",
       " 'D:\\\\Data Analysis\\\\Image Classification Assignment\\\\data\\\\pred\\\\0a550845d5d609a2.jpg': 'Squid',\n",
       " 'D:\\\\Data Analysis\\\\Image Classification Assignment\\\\data\\\\pred\\\\0a965cbeacb7d0a1.jpg': 'Seahorse',\n",
       " 'D:\\\\Data Analysis\\\\Image Classification Assignment\\\\data\\\\pred\\\\0ac5de25179fcea1.jpg': 'Seahorse',\n",
       " 'D:\\\\Data Analysis\\\\Image Classification Assignment\\\\data\\\\pred\\\\0ad6be8108ea6700.jpg': 'Squid',\n",
       " 'D:\\\\Data Analysis\\\\Image Classification Assignment\\\\data\\\\pred\\\\0aeeb6cc2f29d27d.jpg': 'Squid',\n",
       " 'D:\\\\Data Analysis\\\\Image Classification Assignment\\\\data\\\\pred\\\\0b41484f28c596c6.jpg': 'Squid',\n",
       " 'D:\\\\Data Analysis\\\\Image Classification Assignment\\\\data\\\\pred\\\\0bb71609ec3893b8.jpg': 'Squid',\n",
       " 'D:\\\\Data Analysis\\\\Image Classification Assignment\\\\data\\\\pred\\\\0c1a704fd76e91b8.jpg': 'Seahorse',\n",
       " 'D:\\\\Data Analysis\\\\Image Classification Assignment\\\\data\\\\pred\\\\0c40d34e1eb7e6fb.jpg': 'Scorpion',\n",
       " 'D:\\\\Data Analysis\\\\Image Classification Assignment\\\\data\\\\pred\\\\0c8de91daddd73e7.jpg': 'Seahorse',\n",
       " 'D:\\\\Data Analysis\\\\Image Classification Assignment\\\\data\\\\pred\\\\0cca0ef30c922f72.jpg': 'Squid',\n",
       " 'D:\\\\Data Analysis\\\\Image Classification Assignment\\\\data\\\\pred\\\\0d58c98ce84f7e47.jpg': 'Squid',\n",
       " 'D:\\\\Data Analysis\\\\Image Classification Assignment\\\\data\\\\pred\\\\0d6819ff43b02a31.jpg': 'Squid',\n",
       " 'D:\\\\Data Analysis\\\\Image Classification Assignment\\\\data\\\\pred\\\\0d80b82e59e73339.jpg': 'Squid',\n",
       " 'D:\\\\Data Analysis\\\\Image Classification Assignment\\\\data\\\\pred\\\\0e0352506ea4dd98.jpg': 'Squid',\n",
       " 'D:\\\\Data Analysis\\\\Image Classification Assignment\\\\data\\\\pred\\\\0ea2743d224fb80c.jpg': 'Squid',\n",
       " 'D:\\\\Data Analysis\\\\Image Classification Assignment\\\\data\\\\pred\\\\0f22823c18ea8132.jpg': 'Seahorse',\n",
       " 'D:\\\\Data Analysis\\\\Image Classification Assignment\\\\data\\\\pred\\\\11ba9ac09fe7d8b6.jpg': 'Seahorse',\n",
       " 'D:\\\\Data Analysis\\\\Image Classification Assignment\\\\data\\\\pred\\\\11d9ebec7ec1b649.jpg': 'Seahorse',\n",
       " 'D:\\\\Data Analysis\\\\Image Classification Assignment\\\\data\\\\pred\\\\1a123a7b0a042713.jpg': 'Squid',\n",
       " 'D:\\\\Data Analysis\\\\Image Classification Assignment\\\\data\\\\pred\\\\1a4586f24e01a7e6.jpg': 'Seahorse',\n",
       " 'D:\\\\Data Analysis\\\\Image Classification Assignment\\\\data\\\\pred\\\\1a4b404288497cb9.jpg': 'Squid',\n",
       " 'D:\\\\Data Analysis\\\\Image Classification Assignment\\\\data\\\\pred\\\\1a51d29e7947bd07.jpg': 'Squid',\n",
       " 'D:\\\\Data Analysis\\\\Image Classification Assignment\\\\data\\\\pred\\\\1a5f515be50a4b19.jpg': 'Seahorse',\n",
       " 'D:\\\\Data Analysis\\\\Image Classification Assignment\\\\data\\\\pred\\\\1a7a5c2be98b984c.jpg': 'Seahorse',\n",
       " 'D:\\\\Data Analysis\\\\Image Classification Assignment\\\\data\\\\pred\\\\1aadfafad885f2a1.jpg': 'Squid',\n",
       " 'D:\\\\Data Analysis\\\\Image Classification Assignment\\\\data\\\\pred\\\\1ae20f5eb5bcefe1.jpg': 'Squid',\n",
       " 'D:\\\\Data Analysis\\\\Image Classification Assignment\\\\data\\\\pred\\\\1b078c78f5beaa82.jpg': 'Scorpion',\n",
       " 'D:\\\\Data Analysis\\\\Image Classification Assignment\\\\data\\\\pred\\\\1b227366dd9650cd.jpg': 'Squid',\n",
       " 'D:\\\\Data Analysis\\\\Image Classification Assignment\\\\data\\\\pred\\\\1b53a79db859d626.jpg': 'Scorpion',\n",
       " 'D:\\\\Data Analysis\\\\Image Classification Assignment\\\\data\\\\pred\\\\1b98518124837128.jpg': 'Squid',\n",
       " 'D:\\\\Data Analysis\\\\Image Classification Assignment\\\\data\\\\pred\\\\1dbd38b8d1e0c6ef.jpg': 'Squid',\n",
       " 'D:\\\\Data Analysis\\\\Image Classification Assignment\\\\data\\\\pred\\\\1e196a69ca240e51.jpg': 'Scorpion',\n",
       " 'D:\\\\Data Analysis\\\\Image Classification Assignment\\\\data\\\\pred\\\\1e3abe29e35739a9.jpg': 'Squid',\n",
       " 'D:\\\\Data Analysis\\\\Image Classification Assignment\\\\data\\\\pred\\\\2c788bf165f7ee2c.jpg': 'Scorpion',\n",
       " 'D:\\\\Data Analysis\\\\Image Classification Assignment\\\\data\\\\pred\\\\2cb608d3dee43688.jpg': 'Squid',\n",
       " 'D:\\\\Data Analysis\\\\Image Classification Assignment\\\\data\\\\pred\\\\2f6ff7daa1beb4c5.jpg': 'Squid',\n",
       " 'D:\\\\Data Analysis\\\\Image Classification Assignment\\\\data\\\\pred\\\\2fc1fc08190a3217.jpg': 'Squid',\n",
       " 'D:\\\\Data Analysis\\\\Image Classification Assignment\\\\data\\\\pred\\\\35a86249723da96b.jpg': 'Squid',\n",
       " 'D:\\\\Data Analysis\\\\Image Classification Assignment\\\\data\\\\pred\\\\37f7993e36d1e4e0.jpg': 'Squid',\n",
       " 'D:\\\\Data Analysis\\\\Image Classification Assignment\\\\data\\\\pred\\\\3b3006dc6f72f9dc.jpg': 'Squid',\n",
       " 'D:\\\\Data Analysis\\\\Image Classification Assignment\\\\data\\\\pred\\\\42e0f59b6160671f.jpg': 'Squid',\n",
       " 'D:\\\\Data Analysis\\\\Image Classification Assignment\\\\data\\\\pred\\\\42e8124f64e78d37.jpg': 'Squid',\n",
       " 'D:\\\\Data Analysis\\\\Image Classification Assignment\\\\data\\\\pred\\\\45ec9b607d6f6cd7.jpg': 'Squid',\n",
       " 'D:\\\\Data Analysis\\\\Image Classification Assignment\\\\data\\\\pred\\\\4c6d716e2186a652.jpg': 'Squid',\n",
       " 'D:\\\\Data Analysis\\\\Image Classification Assignment\\\\data\\\\pred\\\\4dfe5cd60fb2f45a.jpg': 'Scorpion',\n",
       " 'D:\\\\Data Analysis\\\\Image Classification Assignment\\\\data\\\\pred\\\\4f76023448035878.jpg': 'Squid',\n",
       " 'D:\\\\Data Analysis\\\\Image Classification Assignment\\\\data\\\\pred\\\\5a40f71acc3a2400.jpg': 'Squid',\n",
       " 'D:\\\\Data Analysis\\\\Image Classification Assignment\\\\data\\\\pred\\\\5b778f6fe26f7d7c.jpg': 'Bull',\n",
       " 'D:\\\\Data Analysis\\\\Image Classification Assignment\\\\data\\\\pred\\\\5f8aaec8ed14a3db.jpg': 'Squid',\n",
       " 'D:\\\\Data Analysis\\\\Image Classification Assignment\\\\data\\\\pred\\\\6d0f05a15ce90911.jpg': 'Seahorse',\n",
       " 'D:\\\\Data Analysis\\\\Image Classification Assignment\\\\data\\\\pred\\\\6e8cb3d2954f9586.jpg': 'Squid',\n",
       " 'D:\\\\Data Analysis\\\\Image Classification Assignment\\\\data\\\\pred\\\\6f5b1b82d5fed970.jpg': 'Squid',\n",
       " 'D:\\\\Data Analysis\\\\Image Classification Assignment\\\\data\\\\pred\\\\7c9ee0105ce4f0df.jpg': 'Squid',\n",
       " 'D:\\\\Data Analysis\\\\Image Classification Assignment\\\\data\\\\pred\\\\7d328ab73edbb52c.jpg': 'Squid',\n",
       " 'D:\\\\Data Analysis\\\\Image Classification Assignment\\\\data\\\\pred\\\\7dbf64bf820bd2ef.jpg': 'Squid',\n",
       " 'D:\\\\Data Analysis\\\\Image Classification Assignment\\\\data\\\\pred\\\\83acc5c3ef30e901.jpg': 'Scorpion',\n",
       " 'D:\\\\Data Analysis\\\\Image Classification Assignment\\\\data\\\\pred\\\\86cbd972531d32c9.jpg': 'Squid',\n",
       " 'D:\\\\Data Analysis\\\\Image Classification Assignment\\\\data\\\\pred\\\\8e4ad7b9603b0912.jpg': 'Squid',\n",
       " 'D:\\\\Data Analysis\\\\Image Classification Assignment\\\\data\\\\pred\\\\9a859eee7f88fe45.jpg': 'Squid',\n",
       " 'D:\\\\Data Analysis\\\\Image Classification Assignment\\\\data\\\\pred\\\\9e82314dc99e8d18.jpg': 'Scorpion'}"
      ]
     },
     "execution_count": 30,
     "metadata": {},
     "output_type": "execute_result"
    }
   ],
   "source": [
    "pred_dict"
   ]
  },
  {
   "cell_type": "code",
   "execution_count": null,
   "id": "2ca91a12",
   "metadata": {},
   "outputs": [],
   "source": []
  }
 ],
 "metadata": {
  "kernelspec": {
   "display_name": "Python 3 (ipykernel)",
   "language": "python",
   "name": "python3"
  },
  "language_info": {
   "codemirror_mode": {
    "name": "ipython",
    "version": 3
   },
   "file_extension": ".py",
   "mimetype": "text/x-python",
   "name": "python",
   "nbconvert_exporter": "python",
   "pygments_lexer": "ipython3",
   "version": "3.9.13"
  }
 },
 "nbformat": 4,
 "nbformat_minor": 5
}
